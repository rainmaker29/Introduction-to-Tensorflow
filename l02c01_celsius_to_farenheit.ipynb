{
  "nbformat": 4,
  "nbformat_minor": 0,
  "metadata": {
    "colab": {
      "name": "l02c01_celsius_to_farenheit.ipynb",
      "provenance": [],
      "collapsed_sections": [],
      "authorship_tag": "ABX9TyPRRaKQ/EWqNcp2bdIFmIXs",
      "include_colab_link": true
    },
    "kernelspec": {
      "name": "python3",
      "display_name": "Python 3"
    }
  },
  "cells": [
    {
      "cell_type": "markdown",
      "metadata": {
        "id": "view-in-github",
        "colab_type": "text"
      },
      "source": [
        "<a href=\"https://colab.research.google.com/github/rainmaker29/Introduction-to-Tensorflow/blob/master/l02c01_celsius_to_farenheit.ipynb\" target=\"_parent\"><img src=\"https://colab.research.google.com/assets/colab-badge.svg\" alt=\"Open In Colab\"/></a>"
      ]
    },
    {
      "cell_type": "code",
      "metadata": {
        "id": "RHCotsckOVq3",
        "colab_type": "code",
        "colab": {}
      },
      "source": [
        "import tensorflow as tf\n",
        "import numpy as np\n",
        "import logging\n",
        "logger = tf.get_logger()\n",
        "logger.setLevel(logging.ERROR)"
      ],
      "execution_count": 0,
      "outputs": []
    },
    {
      "cell_type": "code",
      "metadata": {
        "id": "FEBx7SdROvRP",
        "colab_type": "code",
        "colab": {
          "base_uri": "https://localhost:8080/",
          "height": 156
        },
        "outputId": "a105a79f-65fe-497d-e549-99d8c936e9dd"
      },
      "source": [
        "celsius = np.array([-40,-10,0,8,15,22,38],dtype=float)\n",
        "farenheit = np.array([-40,14,32,46,59,72,100],dtype=float)\n",
        "\n",
        "for x,y in zip(celsius,farenheit):\n",
        "  print(\"{0} C = {1} F\".format(x,y))"
      ],
      "execution_count": 2,
      "outputs": [
        {
          "output_type": "stream",
          "text": [
            "-40.0 C = -40.0 F\n",
            "-10.0 C = 14.0 F\n",
            "0.0 C = 32.0 F\n",
            "8.0 C = 46.0 F\n",
            "15.0 C = 59.0 F\n",
            "22.0 C = 72.0 F\n",
            "38.0 C = 100.0 F\n",
            "ERROR! Session/line number was not unique in database. History logging moved to new session 59\n"
          ],
          "name": "stdout"
        }
      ]
    },
    {
      "cell_type": "code",
      "metadata": {
        "id": "EeZTQg7YPY1N",
        "colab_type": "code",
        "colab": {}
      },
      "source": [
        "#Single dense layer with single neuron which takes single input(input_shape) and gives single output (units)\n",
        "\n",
        "l0 = tf.keras.layers.Dense(units=1,input_shape=[1])"
      ],
      "execution_count": 0,
      "outputs": []
    },
    {
      "cell_type": "code",
      "metadata": {
        "id": "_M_HvbArQheT",
        "colab_type": "code",
        "colab": {}
      },
      "source": [
        "model = tf.keras.Sequential([l0])"
      ],
      "execution_count": 0,
      "outputs": []
    },
    {
      "cell_type": "code",
      "metadata": {
        "id": "-vS5sQZAQtSa",
        "colab_type": "code",
        "colab": {}
      },
      "source": [
        "#Loss and Optimizer\n",
        "model.compile(loss='mean_squared_error',optimizer=tf.keras.optimizers.Adam(0.1))"
      ],
      "execution_count": 0,
      "outputs": []
    },
    {
      "cell_type": "code",
      "metadata": {
        "id": "Gmb0Z9rhRCR9",
        "colab_type": "code",
        "colab": {}
      },
      "source": [
        "#Training\n",
        "\n",
        "history = model.fit(celsius,farenheit,epochs=500,verbose=False)"
      ],
      "execution_count": 0,
      "outputs": []
    },
    {
      "cell_type": "code",
      "metadata": {
        "id": "Zx9oQHHrRRJu",
        "colab_type": "code",
        "colab": {
          "base_uri": "https://localhost:8080/",
          "height": 296
        },
        "outputId": "06fe44be-4e85-4930-970a-4cb631451915"
      },
      "source": [
        "import matplotlib.pyplot as plt\n",
        "plt.xlabel('Epoch Number')\n",
        "plt.ylabel('Loss magnitude')\n",
        "plt.plot(history.history['loss'])"
      ],
      "execution_count": 10,
      "outputs": [
        {
          "output_type": "execute_result",
          "data": {
            "text/plain": [
              "[<matplotlib.lines.Line2D at 0x7f2268ec1860>]"
            ]
          },
          "metadata": {
            "tags": []
          },
          "execution_count": 10
        },
        {
          "output_type": "display_data",
          "data": {
            "image/png": "[encoded data removed]",
            "text/plain": [
              "<Figure size 432x288 with 1 Axes>"
            ]
          },
          "metadata": {
            "tags": []
          }
        }
      ]
    },
    {
      "cell_type": "code",
      "metadata": {
        "id": "XBnxEQgpRcxD",
        "colab_type": "code",
        "colab": {
          "base_uri": "https://localhost:8080/",
          "height": 34
        },
        "outputId": "f9305383-7284-4b9f-971a-f69bd561cdfd"
      },
      "source": [
        "model.predict([100.0])"
      ],
      "execution_count": 11,
      "outputs": [
        {
          "output_type": "execute_result",
          "data": {
            "text/plain": [
              "array([[211.7425]], dtype=float32)"
            ]
          },
          "metadata": {
            "tags": []
          },
          "execution_count": 11
        }
      ]
    },
    {
      "cell_type": "code",
      "metadata": {
        "id": "omghx7v3Rxd0",
        "colab_type": "code",
        "colab": {
          "base_uri": "https://localhost:8080/",
          "height": 34
        },
        "outputId": "cf2a18cd-d82e-4eb4-8595-de418f7604c5"
      },
      "source": [
        "print(\"These are the variables in our layer\",l0.get_weights())"
      ],
      "execution_count": 13,
      "outputs": [
        {
          "output_type": "stream",
          "text": [
            "These are the variables in our layer [array([[1.7982469]], dtype=float32), array([31.917809], dtype=float32)]\n"
          ],
          "name": "stdout"
        }
      ]
    },
    {
      "cell_type": "code",
      "metadata": {
        "id": "4HxFXJ23SDO6",
        "colab_type": "code",
        "colab": {}
      },
      "source": [
        "l0 = tf.keras.layers.Dense(units=4,input_shape=[1])\n",
        "l1 = tf.keras.layers.Dense(units=8)\n",
        "l2 = tf.keras.layers.Dense(units=8)\n",
        "l3 = tf.keras.layers.Dense(units=4)\n",
        "l4 = tf.keras.layers.Dense(units=1)\n",
        "\n",
        "model = tf.keras.Sequential([l0,l1,l2,l3,l4])\n",
        "model.compile(loss='mean_squared_error',optimizer=tf.keras.optimizers.Adam(0.1))\n",
        "history = model.fit(celsius,farenheit,epochs=500,verbose=False)"
      ],
      "execution_count": 0,
      "outputs": []
    },
    {
      "cell_type": "code",
      "metadata": {
        "id": "3el__jglTcqz",
        "colab_type": "code",
        "colab": {
          "base_uri": "https://localhost:8080/",
          "height": 296
        },
        "outputId": "b230419b-ef8f-49e5-92f5-355fe6260d1a"
      },
      "source": [
        "plt.xlabel('Epochs')\n",
        "plt.ylabel('Log loss')\n",
        "plt.plot(history.history['loss'])"
      ],
      "execution_count": 16,
      "outputs": [
        {
          "output_type": "execute_result",
          "data": {
            "text/plain": [
              "[<matplotlib.lines.Line2D at 0x7f2268493e80>]"
            ]
          },
          "metadata": {
            "tags": []
          },
          "execution_count": 16
        },
        {
          "output_type": "display_data",
          "data": {
            "image/png": "[encoded data removed]",
            "text/plain": [
              "<Figure size 432x288 with 1 Axes>"
            ]
          },
          "metadata": {
            "tags": []
          }
        }
      ]
    },
    {
      "cell_type": "code",
      "metadata": {
        "id": "QUUQ-liJThxd",
        "colab_type": "code",
        "colab": {
          "base_uri": "https://localhost:8080/",
          "height": 34
        },
        "outputId": "63218524-0b34-4eb2-bf29-35b2cd74fe60"
      },
      "source": [
        "model.predict([100.0])"
      ],
      "execution_count": 17,
      "outputs": [
        {
          "output_type": "execute_result",
          "data": {
            "text/plain": [
              "array([[211.74736]], dtype=float32)"
            ]
          },
          "metadata": {
            "tags": []
          },
          "execution_count": 17
        }
      ]
    },
    {
      "cell_type": "code",
      "metadata": {
        "id": "_jNIgfegTtxA",
        "colab_type": "code",
        "colab": {
          "base_uri": "https://localhost:8080/",
          "height": 1000
        },
        "outputId": "f68e3228-503d-4d98-df2f-2adeaea9d74b"
      },
      "source": [
        "l0.get_weights(),l1.get_weights(),l1.get_weights(),l2.get_weights(),l3.get_weights()"
      ],
      "execution_count": 20,
      "outputs": [
        {
          "output_type": "execute_result",
          "data": {
            "text/plain": [
              "([array([[-0.03460013, -0.509123  ,  0.1718893 ,  0.10475326]],\n",
              "        dtype=float32),\n",
              "  array([ 0.369017 , -2.386236 ,  2.0358884,  1.6970417], dtype=float32)],\n",
              " [array([[-1.2518402 , -0.5867906 ,  0.33732548, -0.26045454,  0.0084146 ,\n",
              "           0.30297583,  0.42654797,  0.22348294],\n",
              "         [ 0.03699222,  0.76052016, -0.2008567 , -0.2854356 , -0.9010833 ,\n",
              "          -0.39525473, -0.19401035,  0.15543051],\n",
              "         [-0.16745043,  0.01981451,  0.5686564 ,  0.31654176,  0.84321   ,\n",
              "           0.12789732,  0.0875257 ,  0.5613542 ],\n",
              "         [-0.45987317, -0.7212204 , -0.29998904,  0.07194202, -0.35454726,\n",
              "           0.49868095,  0.567824  ,  0.69380456]], dtype=float32),\n",
              "  array([ 1.8396101 , -2.4003155 ,  0.60494393,  2.1582036 ,  2.2684822 ,\n",
              "         -0.73649085,  1.048701  ,  1.1649352 ], dtype=float32)],\n",
              " [array([[-1.2518402 , -0.5867906 ,  0.33732548, -0.26045454,  0.0084146 ,\n",
              "           0.30297583,  0.42654797,  0.22348294],\n",
              "         [ 0.03699222,  0.76052016, -0.2008567 , -0.2854356 , -0.9010833 ,\n",
              "          -0.39525473, -0.19401035,  0.15543051],\n",
              "         [-0.16745043,  0.01981451,  0.5686564 ,  0.31654176,  0.84321   ,\n",
              "           0.12789732,  0.0875257 ,  0.5613542 ],\n",
              "         [-0.45987317, -0.7212204 , -0.29998904,  0.07194202, -0.35454726,\n",
              "           0.49868095,  0.567824  ,  0.69380456]], dtype=float32),\n",
              "  array([ 1.8396101 , -2.4003155 ,  0.60494393,  2.1582036 ,  2.2684822 ,\n",
              "         -0.73649085,  1.048701  ,  1.1649352 ], dtype=float32)],\n",
              " [array([[ 9.40865278e-02, -5.64724624e-01, -6.55354023e-01,\n",
              "          -1.44591689e-01,  6.63859487e-01,  5.45227945e-01,\n",
              "          -3.13312113e-01,  7.42255151e-01],\n",
              "         [ 6.97177947e-01,  5.53312480e-01, -2.12987997e-02,\n",
              "           7.74547040e-01, -4.66909438e-01, -1.34352952e-01,\n",
              "           7.40363955e-01,  9.43980180e-04],\n",
              "         [ 2.87770241e-01,  3.88828903e-01,  7.11116910e-01,\n",
              "           1.42135069e-01,  1.60969093e-01, -2.99723506e-01,\n",
              "          -5.26268370e-02,  1.15570910e-01],\n",
              "         [-8.00963998e-01, -4.91704017e-01, -2.81967491e-01,\n",
              "          -1.49214165e-02,  3.57001185e-01, -2.37874791e-01,\n",
              "          -7.35349953e-01,  4.68041182e-01],\n",
              "         [-5.43886483e-01, -6.41288638e-01, -1.02567822e-01,\n",
              "          -4.20918539e-02,  6.42645881e-02,  4.18331116e-01,\n",
              "          -9.22662556e-01, -2.57253945e-02],\n",
              "         [ 1.00513756e-01,  1.74382687e-01,  1.91790432e-01,\n",
              "           9.66266274e-01, -1.10679246e-01, -7.76680410e-01,\n",
              "          -1.95573457e-02, -4.91229177e-01],\n",
              "         [ 1.21096663e-01,  2.46020928e-01,  9.67522144e-01,\n",
              "           1.62989601e-01, -5.93064785e-01, -6.92948699e-01,\n",
              "          -1.64752185e-01, -5.41046500e-01],\n",
              "         [ 3.89008254e-01,  1.86096445e-01,  4.29428816e-01,\n",
              "           7.07831442e-01,  7.08121434e-02, -9.05039757e-02,\n",
              "           1.34778678e-01, -6.91446304e-01]], dtype=float32),\n",
              "  array([-2.4032156 , -2.1026819 ,  0.34920844, -0.2520712 ,  2.2253492 ,\n",
              "          1.5964506 , -2.3353577 , -0.19298087], dtype=float32)],\n",
              " [array([[ 0.151714  ,  0.64744246, -0.41537502, -0.40638328],\n",
              "         [-0.60804486,  0.09035824, -0.10523605, -0.6709459 ],\n",
              "         [-0.7733541 ,  0.02897591, -0.14554185,  0.27438378],\n",
              "         [ 0.47272828, -0.4432327 ,  0.599782  , -0.35150993],\n",
              "         [ 0.18850484, -0.32140726,  0.26531187,  0.23988488],\n",
              "         [-0.37139165, -0.10512277,  0.70199037, -0.1654752 ],\n",
              "         [ 0.29572445,  0.92170066,  0.1656716 , -0.9789014 ],\n",
              "         [-0.54907805,  0.43517622, -0.23435758,  0.2455186 ]],\n",
              "        dtype=float32),\n",
              "  array([-2.2048957, -2.3187876,  0.5947363,  2.1919832], dtype=float32)])"
            ]
          },
          "metadata": {
            "tags": []
          },
          "execution_count": 20
        }
      ]
    },
    {
      "cell_type": "code",
      "metadata": {
        "id": "KDXul4vQTx_t",
        "colab_type": "code",
        "colab": {}
      },
      "source": [
        ""
      ],
      "execution_count": 0,
      "outputs": []
    }
  ]
}